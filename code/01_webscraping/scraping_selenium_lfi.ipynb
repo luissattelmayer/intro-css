{
 "cells": [
  {
   "cell_type": "markdown",
   "metadata": {},
   "source": [
    "---\n",
    "**Author**: Malo Jan  \n",
    "**Date**: 2024-01-06  \n",
    "**Project**: Scraping party press releases\n",
    "\n",
    "**Description**: This notebook scrapes links to press releases from the website of the French political party La France Insoumise. \n",
    "\n",
    "---\n",
    "\n",
    "This script uses Selenium to automate the following tasks:\n",
    "1. Set up a Selenium WebDriver instance (using Firefox in this case).\n",
    "2. Navigate to the \"Communiqués\" page of the La France Insoumise website.\n",
    "\n",
    "Requirements:\n",
    "- Selenium library installed (`pip install selenium`).\n",
    "- Firefox browser and the corresponding GeckoDriver executable available in your system PATH.\n",
    "\n",
    "Modules and Functions:\n",
    "- webdriver: Provides the WebDriver class to interact with the browser.\n",
    "- By: Used to locate elements on the page.\n",
    "- WebDriverWait: Implements explicit waits for certain conditions.\n",
    "- EC: Contains conditions like element presence, visibility, or clickability.\n",
    "- TimeoutException: Handles timeouts when waiting for elements.\n",
    "- time: Used for adding delays between actions.\n",
    "\n",
    "Steps Performed in This Script:\n",
    "1. Initialize a Firefox WebDriver instance.\n",
    "2. Navigate to the specified URL (\"https://lafranceinsoumise.fr/category/actualites/communiques/\").\n"
   ]
  },
  {
   "cell_type": "code",
   "execution_count": 10,
   "id": "76a79e6d",
   "metadata": {},
   "outputs": [
    {
     "name": "stderr",
     "output_type": "stream",
     "text": [
      "The geckodriver version (0.33.0) detected in PATH at /opt/homebrew/bin/geckodriver might not be compatible with the detected firefox version (133.0.3); currently, geckodriver 0.35.0 is recommended for firefox 133.*, so it is advised to delete the driver in PATH and retry\n"
     ]
    }
   ],
   "source": [
    "from selenium import webdriver\n",
    "from selenium.webdriver.common.by import By\n",
    "from selenium.webdriver.support.ui import WebDriverWait\n",
    "from selenium.webdriver.support import expected_conditions as EC\n",
    "from selenium.common.exceptions import TimeoutException\n",
    "import time\n",
    "\n",
    "\n",
    "\n",
    "# Step 1: Set up Selenium WebDriver\n",
    "# Ensure GeckoDriver is installed and in your PATH.\n",
    "driver = webdriver.Firefox()\n",
    "\n",
    "\n",
    "# Step 2: Navigate to the desired webpage\n",
    "# The page contains news and announcements (\"Communiqués\") from La France Insoumise.\n",
    "driver.get(\"https://lafranceinsoumise.fr/category/actualites/communiques/\")\n",
    "\n",
    "# Notes:\n",
    "# - Replace \"webdriver.Firefox()\" with another browser's driver (e.g., webdriver.Chrome()) if needed.\n",
    "# - Ensure the corresponding driver executable is correctly installed and configured.\n"
   ]
  },
  {
   "cell_type": "code",
   "execution_count": 7,
   "id": "d8f5191c",
   "metadata": {},
   "outputs": [],
   "source": [
    "def scroll_down(driver, max_retries=10):\n",
    "    \"\"\"\n",
    "    Scrolls down a webpage by repeatedly clicking the \"See More\" button until the button is no longer available \n",
    "    or the maximum number of retries is reached.\n",
    "\n",
    "    This function waits for the presence and clickability of the \"See More\" button, brings it into view,\n",
    "    and attempts to click it. If the button is not found or an error occurs during interaction, the function\n",
    "    retries up to `max_retries` times.\n",
    "\n",
    "    Args:\n",
    "        driver (WebDriver): The Selenium WebDriver instance controlling the browser.\n",
    "        max_retries (int, optional): Maximum number of retries to handle intermittent issues \n",
    "                                     (default is 10).\n",
    "\n",
    "    Raises:\n",
    "        TimeoutException: If the \"See More\" button is not found within the timeout period.\n",
    "        Exception: For any other errors during the button interaction process.\n",
    "\n",
    "    Behavior:\n",
    "        - Waits for the presence of the button using an explicit wait.\n",
    "        - Scrolls the button into view using JavaScript.\n",
    "        - Attempts to click the button.\n",
    "        - Retries on failure up to the specified limit.\n",
    "\n",
    "    Example:\n",
    "        # Assuming 'driver' is a valid WebDriver instance\n",
    "        scroll_down(driver, max_retries=5)\n",
    "    \"\"\"\n",
    "    retries = 0\n",
    "\n",
    "    while retries < max_retries:\n",
    "        try:\n",
    "            # Locate the \"See More\" button and wait until it is present\n",
    "            see_more_button = WebDriverWait(driver, 10).until(\n",
    "                EC.presence_of_element_located((By.CSS_SELECTOR, '.e-loop__load-more .elementor-button-text'))\n",
    "            )\n",
    "            # Scroll the button into view and ensure it's interactable\n",
    "            driver.execute_script(\"arguments[0].scrollIntoView(true);\", see_more_button)\n",
    "            WebDriverWait(driver, 5).until(EC.element_to_be_clickable(see_more_button))\n",
    "            \n",
    "            # Click the button\n",
    "            see_more_button.click()\n",
    "            time.sleep(3)  # Allow time for content to load\n",
    "            retries = 0  # Reset retries on success\n",
    "        except TimeoutException:\n",
    "            # Exit loop if button is not found within the timeout\n",
    "            break\n",
    "        except:\n",
    "            # Increment retries on other errors\n",
    "            retries += 1\n",
    "            time.sleep(1)  # Pause before retrying\n",
    "    \n",
    "    if retries >= max_retries:\n",
    "        pass  # No further action if max retries are reached\n",
    "\n",
    "# Scroll down the page to load more content\n",
    "    \n",
    "scroll_down(driver)\n"
   ]
  },
  {
   "cell_type": "code",
   "execution_count": 8,
   "id": "18c6d529",
   "metadata": {},
   "outputs": [
    {
     "name": "stdout",
     "output_type": "stream",
     "text": [
      "                                                  href\n",
      "0    https://lafranceinsoumise.fr/2024/12/31/mayott...\n",
      "1    https://lafranceinsoumise.fr/2024/12/30/le-doc...\n",
      "2    https://lafranceinsoumise.fr/2024/12/14/cyclon...\n",
      "3    https://lafranceinsoumise.fr/2024/12/11/soutie...\n",
      "4    https://lafranceinsoumise.fr/2024/12/09/autoro...\n",
      "..                                                 ...\n",
      "516  https://lafranceinsoumise.fr/2021/01/20/mali-m...\n",
      "517  https://lafranceinsoumise.fr/2021/01/19/electi...\n",
      "518  https://lafranceinsoumise.fr/2021/01/19/sahel-...\n",
      "519  https://lafranceinsoumise.fr/2021/01/19/stocam...\n",
      "520  https://lafranceinsoumise.fr/2021/01/18/pour-l...\n",
      "\n",
      "[521 rows x 1 columns]\n"
     ]
    }
   ],
   "source": [
    "import pandas as pd\n",
    "# Collect all of the urls on the page by css selector\n",
    "elements = driver.find_elements(By.CSS_SELECTOR, '.elementor-size-default a')\n",
    "\n",
    "# Create an empty list to store the urls\n",
    "\n",
    "href_list = []\n",
    "for element in elements:\n",
    "    href = element.get_attribute('href')\n",
    "    href_list.append(href)\n",
    "\n",
    "# Save as dataframe\n",
    "df = pd.DataFrame({'href': href_list})\n",
    "print(df)"
   ]
  },
  {
   "cell_type": "code",
   "execution_count": 34,
   "id": "5846dc56",
   "metadata": {},
   "outputs": [],
   "source": [
    "df.to_csv(\"fra_lfi_urls.csv\")"
   ]
  }
 ],
 "metadata": {
  "kernelspec": {
   "display_name": "Python 3 (ipykernel)",
   "language": "python",
   "name": "python3"
  },
  "language_info": {
   "codemirror_mode": {
    "name": "ipython",
    "version": 3
   },
   "file_extension": ".py",
   "mimetype": "text/x-python",
   "name": "python",
   "nbconvert_exporter": "python",
   "pygments_lexer": "ipython3",
   "version": "3.11.4"
  }
 },
 "nbformat": 4,
 "nbformat_minor": 5
}
