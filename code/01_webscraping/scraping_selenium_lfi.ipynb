{
 "cells": [
  {
   "cell_type": "code",
   "execution_count": 1,
   "id": "76a79e6d",
   "metadata": {},
   "outputs": [
    {
     "name": "stderr",
     "output_type": "stream",
     "text": [
      "The geckodriver version (0.33.0) detected in PATH at /opt/homebrew/bin/geckodriver might not be compatible with the detected firefox version (133.0.3); currently, geckodriver 0.35.0 is recommended for firefox 133.*, so it is advised to delete the driver in PATH and retry\n"
     ]
    }
   ],
   "source": [
    "from selenium import webdriver\n",
    "from selenium.webdriver.common.by import By\n",
    "from selenium.webdriver.support.ui import WebDriverWait\n",
    "from selenium.webdriver.support import expected_conditions as EC\n",
    "from selenium.common.exceptions import TimeoutException\n",
    "import time\n",
    "\n",
    "\n",
    "\n",
    "# Set up Selenium webdriver (make sure you have the appropriate driver executable in your PATH)\n",
    "driver = webdriver.Firefox()\n",
    "\n",
    "# Navigate to the page\n",
    "driver.get(\"https://lafranceinsoumise.fr/category/actualites/communiques/\")"
   ]
  },
  {
   "cell_type": "code",
   "execution_count": 10,
   "id": "d8f5191c",
   "metadata": {},
   "outputs": [
    {
     "name": "stdout",
     "output_type": "stream",
     "text": [
      "Clicked 'See More' button.\n",
      "Error encountered: Message: Element <span class=\"elementor-button-text\"> could not be scrolled into view\n",
      "Stacktrace:\n",
      "RemoteError@chrome://remote/content/shared/RemoteError.sys.mjs:8:8\n",
      "WebDriverError@chrome://remote/content/shared/webdriver/Errors.sys.mjs:193:5\n",
      "ElementNotInteractableError@chrome://remote/content/shared/webdriver/Errors.sys.mjs:353:5\n",
      "webdriverClickElement@chrome://remote/content/marionette/interaction.sys.mjs:167:11\n",
      "interaction.clickElement@chrome://remote/content/marionette/interaction.sys.mjs:136:11\n",
      "clickElement@chrome://remote/content/marionette/actors/MarionetteCommandsChild.sys.mjs:327:29\n",
      "receiveMessage@chrome://remote/content/marionette/actors/MarionetteCommandsChild.sys.mjs:207:31\n",
      "\n",
      "Clicked 'See More' button.\n",
      "Error encountered: Message: Element <span class=\"elementor-button-text\"> could not be scrolled into view\n",
      "Stacktrace:\n",
      "RemoteError@chrome://remote/content/shared/RemoteError.sys.mjs:8:8\n",
      "WebDriverError@chrome://remote/content/shared/webdriver/Errors.sys.mjs:193:5\n",
      "ElementNotInteractableError@chrome://remote/content/shared/webdriver/Errors.sys.mjs:353:5\n",
      "webdriverClickElement@chrome://remote/content/marionette/interaction.sys.mjs:167:11\n",
      "interaction.clickElement@chrome://remote/content/marionette/interaction.sys.mjs:136:11\n",
      "clickElement@chrome://remote/content/marionette/actors/MarionetteCommandsChild.sys.mjs:327:29\n",
      "receiveMessage@chrome://remote/content/marionette/actors/MarionetteCommandsChild.sys.mjs:207:31\n",
      "\n",
      "Clicked 'See More' button.\n",
      "Error encountered: Message: Element <span class=\"elementor-button-text\"> could not be scrolled into view\n",
      "Stacktrace:\n",
      "RemoteError@chrome://remote/content/shared/RemoteError.sys.mjs:8:8\n",
      "WebDriverError@chrome://remote/content/shared/webdriver/Errors.sys.mjs:193:5\n",
      "ElementNotInteractableError@chrome://remote/content/shared/webdriver/Errors.sys.mjs:353:5\n",
      "webdriverClickElement@chrome://remote/content/marionette/interaction.sys.mjs:167:11\n",
      "interaction.clickElement@chrome://remote/content/marionette/interaction.sys.mjs:136:11\n",
      "clickElement@chrome://remote/content/marionette/actors/MarionetteCommandsChild.sys.mjs:327:29\n",
      "receiveMessage@chrome://remote/content/marionette/actors/MarionetteCommandsChild.sys.mjs:207:31\n",
      "\n",
      "Clicked 'See More' button.\n",
      "Error encountered: Message: Element <span class=\"elementor-button-text\"> could not be scrolled into view\n",
      "Stacktrace:\n",
      "RemoteError@chrome://remote/content/shared/RemoteError.sys.mjs:8:8\n",
      "WebDriverError@chrome://remote/content/shared/webdriver/Errors.sys.mjs:193:5\n",
      "ElementNotInteractableError@chrome://remote/content/shared/webdriver/Errors.sys.mjs:353:5\n",
      "webdriverClickElement@chrome://remote/content/marionette/interaction.sys.mjs:167:11\n",
      "interaction.clickElement@chrome://remote/content/marionette/interaction.sys.mjs:136:11\n",
      "clickElement@chrome://remote/content/marionette/actors/MarionetteCommandsChild.sys.mjs:327:29\n",
      "receiveMessage@chrome://remote/content/marionette/actors/MarionetteCommandsChild.sys.mjs:207:31\n",
      "\n",
      "Clicked 'See More' button.\n",
      "No more 'See More' button found. Exiting.\n"
     ]
    }
   ],
   "source": [
    "\n",
    "\n",
    "def scroll_down(driver, max_retries=10):\n",
    "    \"\"\"\n",
    "    Scrolls down by clicking the \"See More\" button until it is no longer available.\n",
    "    \n",
    "    Args:\n",
    "        driver (WebDriver): The Selenium WebDriver instance.\n",
    "        max_retries (int): Maximum number of retries to handle intermittent issues.\n",
    "    \"\"\"\n",
    "    retries = 0\n",
    "    \n",
    "    while retries < max_retries:\n",
    "        try:\n",
    "            # Wait until the \"See More\" button is clickable\n",
    "            see_more_button = WebDriverWait(driver, 10).until(\n",
    "                EC.element_to_be_clickable((By.CSS_SELECTOR, '.e-loop__load-more .elementor-button-text'))\n",
    "            )\n",
    "            # Click the button\n",
    "            see_more_button.click()\n",
    "            print(\"Clicked 'See More' button.\")\n",
    "            \n",
    "            # Wait briefly to allow new content to load\n",
    "            time.sleep(3)\n",
    "            retries = 0  # Reset retries on successful click\n",
    "        except TimeoutException:\n",
    "            print(\"No more 'See More' button found. Exiting.\")\n",
    "            break\n",
    "        except Exception as e:\n",
    "            print(f\"Error encountered: {e}\")\n",
    "            retries += 1\n",
    "            time.sleep(1)  # Brief pause before retrying\n",
    "\n",
    "    if retries >= max_retries:\n",
    "        print(f\"Reached maximum retries ({max_retries}). Exiting.\")\n",
    "\n",
    "# Example usage:\n",
    "scroll_down(driver)\n"
   ]
  },
  {
   "cell_type": "code",
   "execution_count": 11,
   "id": "18c6d529",
   "metadata": {},
   "outputs": [
    {
     "name": "stdout",
     "output_type": "stream",
     "text": [
      "                                                  href\n",
      "0    https://lafranceinsoumise.fr/2024/12/31/mayott...\n",
      "1    https://lafranceinsoumise.fr/2024/12/30/le-doc...\n",
      "2    https://lafranceinsoumise.fr/2024/12/14/cyclon...\n",
      "3    https://lafranceinsoumise.fr/2024/12/11/soutie...\n",
      "4    https://lafranceinsoumise.fr/2024/12/09/autoro...\n",
      "..                                                 ...\n",
      "102  https://lafranceinsoumise.fr/2024/05/05/triste...\n",
      "103  https://lafranceinsoumise.fr/2024/05/03/la-loi...\n",
      "104  https://lafranceinsoumise.fr/2024/04/25/en-fra...\n",
      "105  https://lafranceinsoumise.fr/2024/04/23/convoc...\n",
      "106  https://lafranceinsoumise.fr/2024/04/19/convoc...\n",
      "\n",
      "[107 rows x 1 columns]\n"
     ]
    }
   ],
   "source": [
    "import pandas as pd\n",
    "# Collect all of the urls on the page by css selector\n",
    "elements = driver.find_elements(By.CSS_SELECTOR, '.elementor-size-default a')\n",
    "\n",
    "# Create an empty list to store the urls\n",
    "\n",
    "href_list = []\n",
    "for element in elements:\n",
    "    href = element.get_attribute('href')\n",
    "    href_list.append(href)\n",
    "\n",
    "# Save as dataframe\n",
    "df = pd.DataFrame({'href': href_list})\n",
    "print(df)"
   ]
  },
  {
   "cell_type": "code",
   "execution_count": 34,
   "id": "5846dc56",
   "metadata": {},
   "outputs": [],
   "source": [
    "df.to_csv(\"fra_lfi_urls.csv\")"
   ]
  }
 ],
 "metadata": {
  "kernelspec": {
   "display_name": "Python 3 (ipykernel)",
   "language": "python",
   "name": "python3"
  },
  "language_info": {
   "codemirror_mode": {
    "name": "ipython",
    "version": 3
   },
   "file_extension": ".py",
   "mimetype": "text/x-python",
   "name": "python",
   "nbconvert_exporter": "python",
   "pygments_lexer": "ipython3",
   "version": "3.11.4"
  }
 },
 "nbformat": 4,
 "nbformat_minor": 5
}
