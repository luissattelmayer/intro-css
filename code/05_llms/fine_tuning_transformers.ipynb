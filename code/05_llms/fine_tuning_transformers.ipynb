{
  "nbformat": 4,
  "nbformat_minor": 0,
  "metadata": {
    "colab": {
      "provenance": [],
      "gpuType": "T4"
    },
    "kernelspec": {
      "name": "python3",
      "display_name": "Python 3"
    },
    "language_info": {
      "name": "python"
    },
    "accelerator": "GPU",
    "widgets": {
      "application/vnd.jupyter.widget-state+json": {
        "56403968725344afa5faa627bbfcbe6f": {
          "model_module": "@jupyter-widgets/controls",
          "model_name": "HBoxModel",
          "model_module_version": "1.5.0",
          "state": {
            "_dom_classes": [],
            "_model_module": "@jupyter-widgets/controls",
            "_model_module_version": "1.5.0",
            "_model_name": "HBoxModel",
            "_view_count": null,
            "_view_module": "@jupyter-widgets/controls",
            "_view_module_version": "1.5.0",
            "_view_name": "HBoxView",
            "box_style": "",
            "children": [
              "IPY_MODEL_2fb7ce30bf234c29ab4a128d3112cabd",
              "IPY_MODEL_f0a48f3cb6cd485295ff7253d89db77a",
              "IPY_MODEL_49435b91ed2f41438145204a86c7c378"
            ],
            "layout": "IPY_MODEL_73a7e1f2c7b44006a3532de1d1974ac6"
          }
        },
        "2fb7ce30bf234c29ab4a128d3112cabd": {
          "model_module": "@jupyter-widgets/controls",
          "model_name": "HTMLModel",
          "model_module_version": "1.5.0",
          "state": {
            "_dom_classes": [],
            "_model_module": "@jupyter-widgets/controls",
            "_model_module_version": "1.5.0",
            "_model_name": "HTMLModel",
            "_view_count": null,
            "_view_module": "@jupyter-widgets/controls",
            "_view_module_version": "1.5.0",
            "_view_name": "HTMLView",
            "description": "",
            "description_tooltip": null,
            "layout": "IPY_MODEL_9f9d12dc78cd4e2299b8363db6e6cff1",
            "placeholder": "​",
            "style": "IPY_MODEL_bff97c005b0842958fc0d25d45765a87",
            "value": "model.safetensors: 100%"
          }
        },
        "f0a48f3cb6cd485295ff7253d89db77a": {
          "model_module": "@jupyter-widgets/controls",
          "model_name": "FloatProgressModel",
          "model_module_version": "1.5.0",
          "state": {
            "_dom_classes": [],
            "_model_module": "@jupyter-widgets/controls",
            "_model_module_version": "1.5.0",
            "_model_name": "FloatProgressModel",
            "_view_count": null,
            "_view_module": "@jupyter-widgets/controls",
            "_view_module_version": "1.5.0",
            "_view_name": "ProgressView",
            "bar_style": "success",
            "description": "",
            "description_tooltip": null,
            "layout": "IPY_MODEL_f3cbec1718ac48149ff16bf0940f7d5f",
            "max": 371101258,
            "min": 0,
            "orientation": "horizontal",
            "style": "IPY_MODEL_2c4787f406ea4758a8f8872ccbbf3f62",
            "value": 371101258
          }
        },
        "49435b91ed2f41438145204a86c7c378": {
          "model_module": "@jupyter-widgets/controls",
          "model_name": "HTMLModel",
          "model_module_version": "1.5.0",
          "state": {
            "_dom_classes": [],
            "_model_module": "@jupyter-widgets/controls",
            "_model_module_version": "1.5.0",
            "_model_name": "HTMLModel",
            "_view_count": null,
            "_view_module": "@jupyter-widgets/controls",
            "_view_module_version": "1.5.0",
            "_view_name": "HTMLView",
            "description": "",
            "description_tooltip": null,
            "layout": "IPY_MODEL_580710bcddc5400ab57a1f024d1e0c48",
            "placeholder": "​",
            "style": "IPY_MODEL_9db9efd2ffa045b8bed3f97900cbb784",
            "value": " 371M/371M [00:03&lt;00:00, 115MB/s]"
          }
        },
        "73a7e1f2c7b44006a3532de1d1974ac6": {
          "model_module": "@jupyter-widgets/base",
          "model_name": "LayoutModel",
          "model_module_version": "1.2.0",
          "state": {
            "_model_module": "@jupyter-widgets/base",
            "_model_module_version": "1.2.0",
            "_model_name": "LayoutModel",
            "_view_count": null,
            "_view_module": "@jupyter-widgets/base",
            "_view_module_version": "1.2.0",
            "_view_name": "LayoutView",
            "align_content": null,
            "align_items": null,
            "align_self": null,
            "border": null,
            "bottom": null,
            "display": null,
            "flex": null,
            "flex_flow": null,
            "grid_area": null,
            "grid_auto_columns": null,
            "grid_auto_flow": null,
            "grid_auto_rows": null,
            "grid_column": null,
            "grid_gap": null,
            "grid_row": null,
            "grid_template_areas": null,
            "grid_template_columns": null,
            "grid_template_rows": null,
            "height": null,
            "justify_content": null,
            "justify_items": null,
            "left": null,
            "margin": null,
            "max_height": null,
            "max_width": null,
            "min_height": null,
            "min_width": null,
            "object_fit": null,
            "object_position": null,
            "order": null,
            "overflow": null,
            "overflow_x": null,
            "overflow_y": null,
            "padding": null,
            "right": null,
            "top": null,
            "visibility": null,
            "width": null
          }
        },
        "9f9d12dc78cd4e2299b8363db6e6cff1": {
          "model_module": "@jupyter-widgets/base",
          "model_name": "LayoutModel",
          "model_module_version": "1.2.0",
          "state": {
            "_model_module": "@jupyter-widgets/base",
            "_model_module_version": "1.2.0",
            "_model_name": "LayoutModel",
            "_view_count": null,
            "_view_module": "@jupyter-widgets/base",
            "_view_module_version": "1.2.0",
            "_view_name": "LayoutView",
            "align_content": null,
            "align_items": null,
            "align_self": null,
            "border": null,
            "bottom": null,
            "display": null,
            "flex": null,
            "flex_flow": null,
            "grid_area": null,
            "grid_auto_columns": null,
            "grid_auto_flow": null,
            "grid_auto_rows": null,
            "grid_column": null,
            "grid_gap": null,
            "grid_row": null,
            "grid_template_areas": null,
            "grid_template_columns": null,
            "grid_template_rows": null,
            "height": null,
            "justify_content": null,
            "justify_items": null,
            "left": null,
            "margin": null,
            "max_height": null,
            "max_width": null,
            "min_height": null,
            "min_width": null,
            "object_fit": null,
            "object_position": null,
            "order": null,
            "overflow": null,
            "overflow_x": null,
            "overflow_y": null,
            "padding": null,
            "right": null,
            "top": null,
            "visibility": null,
            "width": null
          }
        },
        "bff97c005b0842958fc0d25d45765a87": {
          "model_module": "@jupyter-widgets/controls",
          "model_name": "DescriptionStyleModel",
          "model_module_version": "1.5.0",
          "state": {
            "_model_module": "@jupyter-widgets/controls",
            "_model_module_version": "1.5.0",
            "_model_name": "DescriptionStyleModel",
            "_view_count": null,
            "_view_module": "@jupyter-widgets/base",
            "_view_module_version": "1.2.0",
            "_view_name": "StyleView",
            "description_width": ""
          }
        },
        "f3cbec1718ac48149ff16bf0940f7d5f": {
          "model_module": "@jupyter-widgets/base",
          "model_name": "LayoutModel",
          "model_module_version": "1.2.0",
          "state": {
            "_model_module": "@jupyter-widgets/base",
            "_model_module_version": "1.2.0",
            "_model_name": "LayoutModel",
            "_view_count": null,
            "_view_module": "@jupyter-widgets/base",
            "_view_module_version": "1.2.0",
            "_view_name": "LayoutView",
            "align_content": null,
            "align_items": null,
            "align_self": null,
            "border": null,
            "bottom": null,
            "display": null,
            "flex": null,
            "flex_flow": null,
            "grid_area": null,
            "grid_auto_columns": null,
            "grid_auto_flow": null,
            "grid_auto_rows": null,
            "grid_column": null,
            "grid_gap": null,
            "grid_row": null,
            "grid_template_areas": null,
            "grid_template_columns": null,
            "grid_template_rows": null,
            "height": null,
            "justify_content": null,
            "justify_items": null,
            "left": null,
            "margin": null,
            "max_height": null,
            "max_width": null,
            "min_height": null,
            "min_width": null,
            "object_fit": null,
            "object_position": null,
            "order": null,
            "overflow": null,
            "overflow_x": null,
            "overflow_y": null,
            "padding": null,
            "right": null,
            "top": null,
            "visibility": null,
            "width": null
          }
        },
        "2c4787f406ea4758a8f8872ccbbf3f62": {
          "model_module": "@jupyter-widgets/controls",
          "model_name": "ProgressStyleModel",
          "model_module_version": "1.5.0",
          "state": {
            "_model_module": "@jupyter-widgets/controls",
            "_model_module_version": "1.5.0",
            "_model_name": "ProgressStyleModel",
            "_view_count": null,
            "_view_module": "@jupyter-widgets/base",
            "_view_module_version": "1.2.0",
            "_view_name": "StyleView",
            "bar_color": null,
            "description_width": ""
          }
        },
        "580710bcddc5400ab57a1f024d1e0c48": {
          "model_module": "@jupyter-widgets/base",
          "model_name": "LayoutModel",
          "model_module_version": "1.2.0",
          "state": {
            "_model_module": "@jupyter-widgets/base",
            "_model_module_version": "1.2.0",
            "_model_name": "LayoutModel",
            "_view_count": null,
            "_view_module": "@jupyter-widgets/base",
            "_view_module_version": "1.2.0",
            "_view_name": "LayoutView",
            "align_content": null,
            "align_items": null,
            "align_self": null,
            "border": null,
            "bottom": null,
            "display": null,
            "flex": null,
            "flex_flow": null,
            "grid_area": null,
            "grid_auto_columns": null,
            "grid_auto_flow": null,
            "grid_auto_rows": null,
            "grid_column": null,
            "grid_gap": null,
            "grid_row": null,
            "grid_template_areas": null,
            "grid_template_columns": null,
            "grid_template_rows": null,
            "height": null,
            "justify_content": null,
            "justify_items": null,
            "left": null,
            "margin": null,
            "max_height": null,
            "max_width": null,
            "min_height": null,
            "min_width": null,
            "object_fit": null,
            "object_position": null,
            "order": null,
            "overflow": null,
            "overflow_x": null,
            "overflow_y": null,
            "padding": null,
            "right": null,
            "top": null,
            "visibility": null,
            "width": null
          }
        },
        "9db9efd2ffa045b8bed3f97900cbb784": {
          "model_module": "@jupyter-widgets/controls",
          "model_name": "DescriptionStyleModel",
          "model_module_version": "1.5.0",
          "state": {
            "_model_module": "@jupyter-widgets/controls",
            "_model_module_version": "1.5.0",
            "_model_name": "DescriptionStyleModel",
            "_view_count": null,
            "_view_module": "@jupyter-widgets/base",
            "_view_module_version": "1.2.0",
            "_view_name": "StyleView",
            "description_width": ""
          }
        },
        "71170116c4d74bf1bfec337865c3a4f9": {
          "model_module": "@jupyter-widgets/controls",
          "model_name": "HBoxModel",
          "model_module_version": "1.5.0",
          "state": {
            "_dom_classes": [],
            "_model_module": "@jupyter-widgets/controls",
            "_model_module_version": "1.5.0",
            "_model_name": "HBoxModel",
            "_view_count": null,
            "_view_module": "@jupyter-widgets/controls",
            "_view_module_version": "1.5.0",
            "_view_name": "HBoxView",
            "box_style": "",
            "children": [
              "IPY_MODEL_82dbe73025d3436aa4504d61617e6188",
              "IPY_MODEL_54b61e3a159d43af9c1b73c3c680515f",
              "IPY_MODEL_df31b003650d4a2896826288504a9ab9"
            ],
            "layout": "IPY_MODEL_a099af290e764c9ea06583925dca6f53"
          }
        },
        "82dbe73025d3436aa4504d61617e6188": {
          "model_module": "@jupyter-widgets/controls",
          "model_name": "HTMLModel",
          "model_module_version": "1.5.0",
          "state": {
            "_dom_classes": [],
            "_model_module": "@jupyter-widgets/controls",
            "_model_module_version": "1.5.0",
            "_model_name": "HTMLModel",
            "_view_count": null,
            "_view_module": "@jupyter-widgets/controls",
            "_view_module_version": "1.5.0",
            "_view_name": "HTMLView",
            "description": "",
            "description_tooltip": null,
            "layout": "IPY_MODEL_46198e892ec845dab18059b9d154ffc1",
            "placeholder": "​",
            "style": "IPY_MODEL_599a3aff37564540b65d0f79103c2410",
            "value": "Map: 100%"
          }
        },
        "54b61e3a159d43af9c1b73c3c680515f": {
          "model_module": "@jupyter-widgets/controls",
          "model_name": "FloatProgressModel",
          "model_module_version": "1.5.0",
          "state": {
            "_dom_classes": [],
            "_model_module": "@jupyter-widgets/controls",
            "_model_module_version": "1.5.0",
            "_model_name": "FloatProgressModel",
            "_view_count": null,
            "_view_module": "@jupyter-widgets/controls",
            "_view_module_version": "1.5.0",
            "_view_name": "ProgressView",
            "bar_style": "success",
            "description": "",
            "description_tooltip": null,
            "layout": "IPY_MODEL_c6288dc1ed0a4345ba888e2077aabd83",
            "max": 580,
            "min": 0,
            "orientation": "horizontal",
            "style": "IPY_MODEL_f20d905ae78b4d6dba60b962100b386c",
            "value": 580
          }
        },
        "df31b003650d4a2896826288504a9ab9": {
          "model_module": "@jupyter-widgets/controls",
          "model_name": "HTMLModel",
          "model_module_version": "1.5.0",
          "state": {
            "_dom_classes": [],
            "_model_module": "@jupyter-widgets/controls",
            "_model_module_version": "1.5.0",
            "_model_name": "HTMLModel",
            "_view_count": null,
            "_view_module": "@jupyter-widgets/controls",
            "_view_module_version": "1.5.0",
            "_view_name": "HTMLView",
            "description": "",
            "description_tooltip": null,
            "layout": "IPY_MODEL_14f95aa96931451c8cee6a9d28b300ad",
            "placeholder": "​",
            "style": "IPY_MODEL_03d7a31285b74490b0aef1f10edf5932",
            "value": " 580/580 [00:00&lt;00:00, 3161.75 examples/s]"
          }
        },
        "a099af290e764c9ea06583925dca6f53": {
          "model_module": "@jupyter-widgets/base",
          "model_name": "LayoutModel",
          "model_module_version": "1.2.0",
          "state": {
            "_model_module": "@jupyter-widgets/base",
            "_model_module_version": "1.2.0",
            "_model_name": "LayoutModel",
            "_view_count": null,
            "_view_module": "@jupyter-widgets/base",
            "_view_module_version": "1.2.0",
            "_view_name": "LayoutView",
            "align_content": null,
            "align_items": null,
            "align_self": null,
            "border": null,
            "bottom": null,
            "display": null,
            "flex": null,
            "flex_flow": null,
            "grid_area": null,
            "grid_auto_columns": null,
            "grid_auto_flow": null,
            "grid_auto_rows": null,
            "grid_column": null,
            "grid_gap": null,
            "grid_row": null,
            "grid_template_areas": null,
            "grid_template_columns": null,
            "grid_template_rows": null,
            "height": null,
            "justify_content": null,
            "justify_items": null,
            "left": null,
            "margin": null,
            "max_height": null,
            "max_width": null,
            "min_height": null,
            "min_width": null,
            "object_fit": null,
            "object_position": null,
            "order": null,
            "overflow": null,
            "overflow_x": null,
            "overflow_y": null,
            "padding": null,
            "right": null,
            "top": null,
            "visibility": null,
            "width": null
          }
        },
        "46198e892ec845dab18059b9d154ffc1": {
          "model_module": "@jupyter-widgets/base",
          "model_name": "LayoutModel",
          "model_module_version": "1.2.0",
          "state": {
            "_model_module": "@jupyter-widgets/base",
            "_model_module_version": "1.2.0",
            "_model_name": "LayoutModel",
            "_view_count": null,
            "_view_module": "@jupyter-widgets/base",
            "_view_module_version": "1.2.0",
            "_view_name": "LayoutView",
            "align_content": null,
            "align_items": null,
            "align_self": null,
            "border": null,
            "bottom": null,
            "display": null,
            "flex": null,
            "flex_flow": null,
            "grid_area": null,
            "grid_auto_columns": null,
            "grid_auto_flow": null,
            "grid_auto_rows": null,
            "grid_column": null,
            "grid_gap": null,
            "grid_row": null,
            "grid_template_areas": null,
            "grid_template_columns": null,
            "grid_template_rows": null,
            "height": null,
            "justify_content": null,
            "justify_items": null,
            "left": null,
            "margin": null,
            "max_height": null,
            "max_width": null,
            "min_height": null,
            "min_width": null,
            "object_fit": null,
            "object_position": null,
            "order": null,
            "overflow": null,
            "overflow_x": null,
            "overflow_y": null,
            "padding": null,
            "right": null,
            "top": null,
            "visibility": null,
            "width": null
          }
        },
        "599a3aff37564540b65d0f79103c2410": {
          "model_module": "@jupyter-widgets/controls",
          "model_name": "DescriptionStyleModel",
          "model_module_version": "1.5.0",
          "state": {
            "_model_module": "@jupyter-widgets/controls",
            "_model_module_version": "1.5.0",
            "_model_name": "DescriptionStyleModel",
            "_view_count": null,
            "_view_module": "@jupyter-widgets/base",
            "_view_module_version": "1.2.0",
            "_view_name": "StyleView",
            "description_width": ""
          }
        },
        "c6288dc1ed0a4345ba888e2077aabd83": {
          "model_module": "@jupyter-widgets/base",
          "model_name": "LayoutModel",
          "model_module_version": "1.2.0",
          "state": {
            "_model_module": "@jupyter-widgets/base",
            "_model_module_version": "1.2.0",
            "_model_name": "LayoutModel",
            "_view_count": null,
            "_view_module": "@jupyter-widgets/base",
            "_view_module_version": "1.2.0",
            "_view_name": "LayoutView",
            "align_content": null,
            "align_items": null,
            "align_self": null,
            "border": null,
            "bottom": null,
            "display": null,
            "flex": null,
            "flex_flow": null,
            "grid_area": null,
            "grid_auto_columns": null,
            "grid_auto_flow": null,
            "grid_auto_rows": null,
            "grid_column": null,
            "grid_gap": null,
            "grid_row": null,
            "grid_template_areas": null,
            "grid_template_columns": null,
            "grid_template_rows": null,
            "height": null,
            "justify_content": null,
            "justify_items": null,
            "left": null,
            "margin": null,
            "max_height": null,
            "max_width": null,
            "min_height": null,
            "min_width": null,
            "object_fit": null,
            "object_position": null,
            "order": null,
            "overflow": null,
            "overflow_x": null,
            "overflow_y": null,
            "padding": null,
            "right": null,
            "top": null,
            "visibility": null,
            "width": null
          }
        },
        "f20d905ae78b4d6dba60b962100b386c": {
          "model_module": "@jupyter-widgets/controls",
          "model_name": "ProgressStyleModel",
          "model_module_version": "1.5.0",
          "state": {
            "_model_module": "@jupyter-widgets/controls",
            "_model_module_version": "1.5.0",
            "_model_name": "ProgressStyleModel",
            "_view_count": null,
            "_view_module": "@jupyter-widgets/base",
            "_view_module_version": "1.2.0",
            "_view_name": "StyleView",
            "bar_color": null,
            "description_width": ""
          }
        },
        "14f95aa96931451c8cee6a9d28b300ad": {
          "model_module": "@jupyter-widgets/base",
          "model_name": "LayoutModel",
          "model_module_version": "1.2.0",
          "state": {
            "_model_module": "@jupyter-widgets/base",
            "_model_module_version": "1.2.0",
            "_model_name": "LayoutModel",
            "_view_count": null,
            "_view_module": "@jupyter-widgets/base",
            "_view_module_version": "1.2.0",
            "_view_name": "LayoutView",
            "align_content": null,
            "align_items": null,
            "align_self": null,
            "border": null,
            "bottom": null,
            "display": null,
            "flex": null,
            "flex_flow": null,
            "grid_area": null,
            "grid_auto_columns": null,
            "grid_auto_flow": null,
            "grid_auto_rows": null,
            "grid_column": null,
            "grid_gap": null,
            "grid_row": null,
            "grid_template_areas": null,
            "grid_template_columns": null,
            "grid_template_rows": null,
            "height": null,
            "justify_content": null,
            "justify_items": null,
            "left": null,
            "margin": null,
            "max_height": null,
            "max_width": null,
            "min_height": null,
            "min_width": null,
            "object_fit": null,
            "object_position": null,
            "order": null,
            "overflow": null,
            "overflow_x": null,
            "overflow_y": null,
            "padding": null,
            "right": null,
            "top": null,
            "visibility": null,
            "width": null
          }
        },
        "03d7a31285b74490b0aef1f10edf5932": {
          "model_module": "@jupyter-widgets/controls",
          "model_name": "DescriptionStyleModel",
          "model_module_version": "1.5.0",
          "state": {
            "_model_module": "@jupyter-widgets/controls",
            "_model_module_version": "1.5.0",
            "_model_name": "DescriptionStyleModel",
            "_view_count": null,
            "_view_module": "@jupyter-widgets/base",
            "_view_module_version": "1.2.0",
            "_view_name": "StyleView",
            "description_width": ""
          }
        },
        "65606e6a13924126b31bc26043a06626": {
          "model_module": "@jupyter-widgets/controls",
          "model_name": "HBoxModel",
          "model_module_version": "1.5.0",
          "state": {
            "_dom_classes": [],
            "_model_module": "@jupyter-widgets/controls",
            "_model_module_version": "1.5.0",
            "_model_name": "HBoxModel",
            "_view_count": null,
            "_view_module": "@jupyter-widgets/controls",
            "_view_module_version": "1.5.0",
            "_view_name": "HBoxView",
            "box_style": "",
            "children": [
              "IPY_MODEL_35fb6b2554594c17b14b28f3493df7a9",
              "IPY_MODEL_2b559c46029f42fb8bcc42a49f9c91c7",
              "IPY_MODEL_19d0a69d12274d0089fb177f29e0550e"
            ],
            "layout": "IPY_MODEL_58467ac3730c4a578da2f20b8a805649"
          }
        },
        "35fb6b2554594c17b14b28f3493df7a9": {
          "model_module": "@jupyter-widgets/controls",
          "model_name": "HTMLModel",
          "model_module_version": "1.5.0",
          "state": {
            "_dom_classes": [],
            "_model_module": "@jupyter-widgets/controls",
            "_model_module_version": "1.5.0",
            "_model_name": "HTMLModel",
            "_view_count": null,
            "_view_module": "@jupyter-widgets/controls",
            "_view_module_version": "1.5.0",
            "_view_name": "HTMLView",
            "description": "",
            "description_tooltip": null,
            "layout": "IPY_MODEL_72b11cecf39343c382bbd8c481ad059d",
            "placeholder": "​",
            "style": "IPY_MODEL_4824208a2d894a5daa17f61258218c88",
            "value": "Map: 100%"
          }
        },
        "2b559c46029f42fb8bcc42a49f9c91c7": {
          "model_module": "@jupyter-widgets/controls",
          "model_name": "FloatProgressModel",
          "model_module_version": "1.5.0",
          "state": {
            "_dom_classes": [],
            "_model_module": "@jupyter-widgets/controls",
            "_model_module_version": "1.5.0",
            "_model_name": "FloatProgressModel",
            "_view_count": null,
            "_view_module": "@jupyter-widgets/controls",
            "_view_module_version": "1.5.0",
            "_view_name": "ProgressView",
            "bar_style": "success",
            "description": "",
            "description_tooltip": null,
            "layout": "IPY_MODEL_40c9677ea18f4773a1f29a6eeb271dec",
            "max": 145,
            "min": 0,
            "orientation": "horizontal",
            "style": "IPY_MODEL_39119bfdec9b4fccb8920ddcbf8bf103",
            "value": 145
          }
        },
        "19d0a69d12274d0089fb177f29e0550e": {
          "model_module": "@jupyter-widgets/controls",
          "model_name": "HTMLModel",
          "model_module_version": "1.5.0",
          "state": {
            "_dom_classes": [],
            "_model_module": "@jupyter-widgets/controls",
            "_model_module_version": "1.5.0",
            "_model_name": "HTMLModel",
            "_view_count": null,
            "_view_module": "@jupyter-widgets/controls",
            "_view_module_version": "1.5.0",
            "_view_name": "HTMLView",
            "description": "",
            "description_tooltip": null,
            "layout": "IPY_MODEL_9c51f2005eb74b75a796f5c452dfc099",
            "placeholder": "​",
            "style": "IPY_MODEL_5e197144c61d4ec7bc2d1f4804278838",
            "value": " 145/145 [00:00&lt;00:00, 1927.74 examples/s]"
          }
        },
        "58467ac3730c4a578da2f20b8a805649": {
          "model_module": "@jupyter-widgets/base",
          "model_name": "LayoutModel",
          "model_module_version": "1.2.0",
          "state": {
            "_model_module": "@jupyter-widgets/base",
            "_model_module_version": "1.2.0",
            "_model_name": "LayoutModel",
            "_view_count": null,
            "_view_module": "@jupyter-widgets/base",
            "_view_module_version": "1.2.0",
            "_view_name": "LayoutView",
            "align_content": null,
            "align_items": null,
            "align_self": null,
            "border": null,
            "bottom": null,
            "display": null,
            "flex": null,
            "flex_flow": null,
            "grid_area": null,
            "grid_auto_columns": null,
            "grid_auto_flow": null,
            "grid_auto_rows": null,
            "grid_column": null,
            "grid_gap": null,
            "grid_row": null,
            "grid_template_areas": null,
            "grid_template_columns": null,
            "grid_template_rows": null,
            "height": null,
            "justify_content": null,
            "justify_items": null,
            "left": null,
            "margin": null,
            "max_height": null,
            "max_width": null,
            "min_height": null,
            "min_width": null,
            "object_fit": null,
            "object_position": null,
            "order": null,
            "overflow": null,
            "overflow_x": null,
            "overflow_y": null,
            "padding": null,
            "right": null,
            "top": null,
            "visibility": null,
            "width": null
          }
        },
        "72b11cecf39343c382bbd8c481ad059d": {
          "model_module": "@jupyter-widgets/base",
          "model_name": "LayoutModel",
          "model_module_version": "1.2.0",
          "state": {
            "_model_module": "@jupyter-widgets/base",
            "_model_module_version": "1.2.0",
            "_model_name": "LayoutModel",
            "_view_count": null,
            "_view_module": "@jupyter-widgets/base",
            "_view_module_version": "1.2.0",
            "_view_name": "LayoutView",
            "align_content": null,
            "align_items": null,
            "align_self": null,
            "border": null,
            "bottom": null,
            "display": null,
            "flex": null,
            "flex_flow": null,
            "grid_area": null,
            "grid_auto_columns": null,
            "grid_auto_flow": null,
            "grid_auto_rows": null,
            "grid_column": null,
            "grid_gap": null,
            "grid_row": null,
            "grid_template_areas": null,
            "grid_template_columns": null,
            "grid_template_rows": null,
            "height": null,
            "justify_content": null,
            "justify_items": null,
            "left": null,
            "margin": null,
            "max_height": null,
            "max_width": null,
            "min_height": null,
            "min_width": null,
            "object_fit": null,
            "object_position": null,
            "order": null,
            "overflow": null,
            "overflow_x": null,
            "overflow_y": null,
            "padding": null,
            "right": null,
            "top": null,
            "visibility": null,
            "width": null
          }
        },
        "4824208a2d894a5daa17f61258218c88": {
          "model_module": "@jupyter-widgets/controls",
          "model_name": "DescriptionStyleModel",
          "model_module_version": "1.5.0",
          "state": {
            "_model_module": "@jupyter-widgets/controls",
            "_model_module_version": "1.5.0",
            "_model_name": "DescriptionStyleModel",
            "_view_count": null,
            "_view_module": "@jupyter-widgets/base",
            "_view_module_version": "1.2.0",
            "_view_name": "StyleView",
            "description_width": ""
          }
        },
        "40c9677ea18f4773a1f29a6eeb271dec": {
          "model_module": "@jupyter-widgets/base",
          "model_name": "LayoutModel",
          "model_module_version": "1.2.0",
          "state": {
            "_model_module": "@jupyter-widgets/base",
            "_model_module_version": "1.2.0",
            "_model_name": "LayoutModel",
            "_view_count": null,
            "_view_module": "@jupyter-widgets/base",
            "_view_module_version": "1.2.0",
            "_view_name": "LayoutView",
            "align_content": null,
            "align_items": null,
            "align_self": null,
            "border": null,
            "bottom": null,
            "display": null,
            "flex": null,
            "flex_flow": null,
            "grid_area": null,
            "grid_auto_columns": null,
            "grid_auto_flow": null,
            "grid_auto_rows": null,
            "grid_column": null,
            "grid_gap": null,
            "grid_row": null,
            "grid_template_areas": null,
            "grid_template_columns": null,
            "grid_template_rows": null,
            "height": null,
            "justify_content": null,
            "justify_items": null,
            "left": null,
            "margin": null,
            "max_height": null,
            "max_width": null,
            "min_height": null,
            "min_width": null,
            "object_fit": null,
            "object_position": null,
            "order": null,
            "overflow": null,
            "overflow_x": null,
            "overflow_y": null,
            "padding": null,
            "right": null,
            "top": null,
            "visibility": null,
            "width": null
          }
        },
        "39119bfdec9b4fccb8920ddcbf8bf103": {
          "model_module": "@jupyter-widgets/controls",
          "model_name": "ProgressStyleModel",
          "model_module_version": "1.5.0",
          "state": {
            "_model_module": "@jupyter-widgets/controls",
            "_model_module_version": "1.5.0",
            "_model_name": "ProgressStyleModel",
            "_view_count": null,
            "_view_module": "@jupyter-widgets/base",
            "_view_module_version": "1.2.0",
            "_view_name": "StyleView",
            "bar_color": null,
            "description_width": ""
          }
        },
        "9c51f2005eb74b75a796f5c452dfc099": {
          "model_module": "@jupyter-widgets/base",
          "model_name": "LayoutModel",
          "model_module_version": "1.2.0",
          "state": {
            "_model_module": "@jupyter-widgets/base",
            "_model_module_version": "1.2.0",
            "_model_name": "LayoutModel",
            "_view_count": null,
            "_view_module": "@jupyter-widgets/base",
            "_view_module_version": "1.2.0",
            "_view_name": "LayoutView",
            "align_content": null,
            "align_items": null,
            "align_self": null,
            "border": null,
            "bottom": null,
            "display": null,
            "flex": null,
            "flex_flow": null,
            "grid_area": null,
            "grid_auto_columns": null,
            "grid_auto_flow": null,
            "grid_auto_rows": null,
            "grid_column": null,
            "grid_gap": null,
            "grid_row": null,
            "grid_template_areas": null,
            "grid_template_columns": null,
            "grid_template_rows": null,
            "height": null,
            "justify_content": null,
            "justify_items": null,
            "left": null,
            "margin": null,
            "max_height": null,
            "max_width": null,
            "min_height": null,
            "min_width": null,
            "object_fit": null,
            "object_position": null,
            "order": null,
            "overflow": null,
            "overflow_x": null,
            "overflow_y": null,
            "padding": null,
            "right": null,
            "top": null,
            "visibility": null,
            "width": null
          }
        },
        "5e197144c61d4ec7bc2d1f4804278838": {
          "model_module": "@jupyter-widgets/controls",
          "model_name": "DescriptionStyleModel",
          "model_module_version": "1.5.0",
          "state": {
            "_model_module": "@jupyter-widgets/controls",
            "_model_module_version": "1.5.0",
            "_model_name": "DescriptionStyleModel",
            "_view_count": null,
            "_view_module": "@jupyter-widgets/base",
            "_view_module_version": "1.2.0",
            "_view_name": "StyleView",
            "description_width": ""
          }
        }
      }
    }
  },
  "cells": [
    {
      "cell_type": "markdown",
      "source": [
        "Models available on the Hugging Face hub can serve as a good starting point, but they may not have been trained specifically for the task we are focused on, nor have they necessarily encountered data similar to ours. While these models possess general language knowledge, they may lack the specific task knowledge required for our purposes. Therefore, fine-tuning these models on our own data is an effective way to adapt them to our needs.\n",
        "\n",
        "<br>\n",
        "<a target=\"_blank\" href=\"https://colab.research.google.com/drive/1QogIeR13OmhBs9fif_cycNACscxb5Bt9#scrollTo=EjyJfZJhQ1Uc\">\n",
        "  <img src=\"https://colab.research.google.com/assets/colab-badge.svg\" alt=\"Open In Colab\"/>\n",
        "</a>"
      ],
      "metadata": {
        "id": "EjyJfZJhQ1Uc"
      }
    },
    {
      "cell_type": "code",
      "execution_count": 2,
      "metadata": {
        "id": "C4qFUwURQysG"
      },
      "outputs": [],
      "source": [
        "!pip install -q  scikit-learn datasets tokenizers sentencepiece protobuf accelerate transformers torch"
      ]
    },
    {
      "cell_type": "code",
      "source": [
        "# set random seed for reproducibility\n",
        "import numpy as np\n",
        "\n",
        "SEED_GLOBAL = 42\n",
        "np.random.seed(SEED_GLOBAL)"
      ],
      "metadata": {
        "id": "rB_q3DCSiO3n"
      },
      "execution_count": 3,
      "outputs": []
    },
    {
      "cell_type": "code",
      "source": [
        "import pandas as pd\n",
        "\n",
        "df = pd.read_csv(\"https://raw.githubusercontent.com/luissattelmayer/intro-css/refs/heads/main/data/tweets_annotations.csv\")\n",
        "\n",
        "df = df[[\"id\", \"text\", \"label\"]]\n",
        "\n",
        "df\n",
        "\n",
        "# Create label_text column 1 being about economy and 0 for not\n",
        "\n",
        "df[\"label_text\"] = df[\"label\"].apply(lambda x: \"economy\" if x == 1 else \"other\")\n",
        "\n",
        "df.value_counts(\"label_text\")"
      ],
      "metadata": {
        "colab": {
          "base_uri": "https://localhost:8080/",
          "height": 178
        },
        "id": "Iu4ykCnCh1Aq",
        "outputId": "4d042708-ea58-475b-98ee-018ab4e2a4db"
      },
      "execution_count": 4,
      "outputs": [
        {
          "output_type": "execute_result",
          "data": {
            "text/plain": [
              "label_text\n",
              "other      547\n",
              "economy    178\n",
              "Name: count, dtype: int64"
            ],
            "text/html": [
              "<div>\n",
              "<style scoped>\n",
              "    .dataframe tbody tr th:only-of-type {\n",
              "        vertical-align: middle;\n",
              "    }\n",
              "\n",
              "    .dataframe tbody tr th {\n",
              "        vertical-align: top;\n",
              "    }\n",
              "\n",
              "    .dataframe thead th {\n",
              "        text-align: right;\n",
              "    }\n",
              "</style>\n",
              "<table border=\"1\" class=\"dataframe\">\n",
              "  <thead>\n",
              "    <tr style=\"text-align: right;\">\n",
              "      <th></th>\n",
              "      <th>count</th>\n",
              "    </tr>\n",
              "    <tr>\n",
              "      <th>label_text</th>\n",
              "      <th></th>\n",
              "    </tr>\n",
              "  </thead>\n",
              "  <tbody>\n",
              "    <tr>\n",
              "      <th>other</th>\n",
              "      <td>547</td>\n",
              "    </tr>\n",
              "    <tr>\n",
              "      <th>economy</th>\n",
              "      <td>178</td>\n",
              "    </tr>\n",
              "  </tbody>\n",
              "</table>\n",
              "</div><br><label><b>dtype:</b> int64</label>"
            ]
          },
          "metadata": {},
          "execution_count": 4
        }
      ]
    },
    {
      "cell_type": "markdown",
      "source": [
        "## Split into training and test set"
      ],
      "metadata": {
        "id": "YqPbKtS3jI-p"
      }
    },
    {
      "cell_type": "markdown",
      "source": [
        "As in classical supervised learning, to fine-tune a pre-trained model, we need to split our dataset into training and testing sets, which can be done using the sklearn library in Python."
      ],
      "metadata": {
        "id": "KC_bGVZnw8zN"
      }
    },
    {
      "cell_type": "code",
      "source": [
        "# Split into training and test set\n",
        "\n",
        "from sklearn.model_selection import train_test_split\n",
        "\n",
        "df_train, df_test = train_test_split(df, test_size=0.2, random_state=SEED_GLOBAL, stratify=df['label'])\n",
        "\n",
        "# label distribution train set\n",
        "print(\"Train set label distribution:\\n\", df_train.label_text.value_counts(), \"\\n\")\n",
        "# label distribution test set\n",
        "print(\"Test set label distribution:\\n\", df_test.label_text.value_counts())"
      ],
      "metadata": {
        "colab": {
          "base_uri": "https://localhost:8080/"
        },
        "id": "b3MPymPtjKi1",
        "outputId": "11c274e2-9370-4314-86b5-4918aadd611b"
      },
      "execution_count": 5,
      "outputs": [
        {
          "output_type": "stream",
          "name": "stdout",
          "text": [
            "Train set label distribution:\n",
            " label_text\n",
            "other      438\n",
            "economy    142\n",
            "Name: count, dtype: int64 \n",
            "\n",
            "Test set label distribution:\n",
            " label_text\n",
            "other      109\n",
            "economy     36\n",
            "Name: count, dtype: int64\n"
          ]
        }
      ]
    },
    {
      "cell_type": "markdown",
      "source": [
        "## Load a model"
      ],
      "metadata": {
        "id": "EuY8-RN3kM_R"
      }
    },
    {
      "cell_type": "markdown",
      "source": [
        "The next step is to load a pre-trained model from the Hugging Face library, which we will fine-tune for our classification task using our labeled dataset. For this, we do not use the pipeline but instead load the model and its associated tokenizer. Here, I load a version of BERT called DeBERTa, but it could be any model that is relevant on the platform."
      ],
      "metadata": {
        "id": "s_SQQ_itxZEB"
      }
    },
    {
      "cell_type": "code",
      "source": [
        "from transformers import AutoTokenizer, AutoModelForSequenceClassification, AutoConfig\n",
        "import torch\n",
        "import numpy as np\n",
        "\n",
        "## load a model and its tokenizer\n",
        "model_name = \"microsoft/deberta-v3-base\"\n",
        "tokenizer = AutoTokenizer.from_pretrained(model_name, use_fast=True, model_max_length=512)\n",
        "\n",
        "# Define the desired label mapping directly\n",
        "label2id = {\n",
        "    'Other': 0,                   # Set 'Other' to 0\n",
        "    'Economy': 1   # Set 'Economy' to 1\n",
        "}\n",
        "\n",
        "# Create an inverse mapping\n",
        "id2label = {v: k for k, v in label2id.items()}  # Inverse mapping\n",
        "\n",
        "# Print the mappings to verify\n",
        "print(\"Label to ID mapping:\", label2id)  # This should print: {'Other': 0, 'Environment and Energy': 1}\n",
        "print(\"ID to Label mapping:\", id2label)  # This should print: {0: 'Other', 1: 'Environment and Energy'}\n",
        "\n",
        "config = AutoConfig.from_pretrained(model_name, label2id=label2id, id2label=id2label, num_labels=len(label2id));\n",
        "print(\"\\n\", label2id, \"\\n\")\n",
        "\n",
        "# load model with config\n",
        "model = AutoModelForSequenceClassification.from_pretrained(model_name, config=config, ignore_mismatched_sizes=True);\n",
        "\n",
        "# use GPU (cuda) if available, otherwise use CPU\n",
        "device = \"cuda\" if torch.cuda.is_available() else \"cpu\"\n",
        "print(f\"Device: {device}\")\n",
        "model.to(device)\n"
      ],
      "metadata": {
        "colab": {
          "base_uri": "https://localhost:8080/",
          "height": 1000,
          "referenced_widgets": [
            "56403968725344afa5faa627bbfcbe6f",
            "2fb7ce30bf234c29ab4a128d3112cabd",
            "f0a48f3cb6cd485295ff7253d89db77a",
            "49435b91ed2f41438145204a86c7c378",
            "73a7e1f2c7b44006a3532de1d1974ac6",
            "9f9d12dc78cd4e2299b8363db6e6cff1",
            "bff97c005b0842958fc0d25d45765a87",
            "f3cbec1718ac48149ff16bf0940f7d5f",
            "2c4787f406ea4758a8f8872ccbbf3f62",
            "580710bcddc5400ab57a1f024d1e0c48",
            "9db9efd2ffa045b8bed3f97900cbb784"
          ]
        },
        "id": "myavTZAekNsz",
        "outputId": "7c2ed7cc-f68b-4774-cca4-738f82363550"
      },
      "execution_count": 6,
      "outputs": [
        {
          "output_type": "stream",
          "name": "stderr",
          "text": [
            "/usr/local/lib/python3.11/dist-packages/huggingface_hub/utils/_auth.py:94: UserWarning: \n",
            "The secret `HF_TOKEN` does not exist in your Colab secrets.\n",
            "To authenticate with the Hugging Face Hub, create a token in your settings tab (https://huggingface.co/settings/tokens), set it as secret in your Google Colab and restart your session.\n",
            "You will be able to reuse this secret in all of your notebooks.\n",
            "Please note that authentication is recommended but still optional to access public models or datasets.\n",
            "  warnings.warn(\n",
            "/usr/local/lib/python3.11/dist-packages/transformers/convert_slow_tokenizer.py:561: UserWarning: The sentencepiece tokenizer that you are converting to a fast tokenizer uses the byte fallback option which is not implemented in the fast tokenizers. In practice this means that the fast version of the tokenizer can produce unknown tokens whereas the sentencepiece version would have converted these unknown tokens into a sequence of byte tokens matching the original piece of text.\n",
            "  warnings.warn(\n"
          ]
        },
        {
          "output_type": "stream",
          "name": "stdout",
          "text": [
            "Label to ID mapping: {'Other': 0, 'Economy': 1}\n",
            "ID to Label mapping: {0: 'Other', 1: 'Economy'}\n",
            "\n",
            " {'Other': 0, 'Economy': 1} \n",
            "\n"
          ]
        },
        {
          "output_type": "display_data",
          "data": {
            "text/plain": [
              "model.safetensors:   0%|          | 0.00/371M [00:00<?, ?B/s]"
            ],
            "application/vnd.jupyter.widget-view+json": {
              "version_major": 2,
              "version_minor": 0,
              "model_id": "56403968725344afa5faa627bbfcbe6f"
            }
          },
          "metadata": {}
        },
        {
          "output_type": "stream",
          "name": "stderr",
          "text": [
            "Some weights of DebertaV2ForSequenceClassification were not initialized from the model checkpoint at microsoft/deberta-v3-base and are newly initialized: ['classifier.bias', 'classifier.weight', 'pooler.dense.bias', 'pooler.dense.weight']\n",
            "You should probably TRAIN this model on a down-stream task to be able to use it for predictions and inference.\n"
          ]
        },
        {
          "output_type": "stream",
          "name": "stdout",
          "text": [
            "Device: cuda\n"
          ]
        },
        {
          "output_type": "execute_result",
          "data": {
            "text/plain": [
              "DebertaV2ForSequenceClassification(\n",
              "  (deberta): DebertaV2Model(\n",
              "    (embeddings): DebertaV2Embeddings(\n",
              "      (word_embeddings): Embedding(128100, 768, padding_idx=0)\n",
              "      (LayerNorm): LayerNorm((768,), eps=1e-07, elementwise_affine=True)\n",
              "      (dropout): Dropout(p=0.1, inplace=False)\n",
              "    )\n",
              "    (encoder): DebertaV2Encoder(\n",
              "      (layer): ModuleList(\n",
              "        (0-11): 12 x DebertaV2Layer(\n",
              "          (attention): DebertaV2Attention(\n",
              "            (self): DisentangledSelfAttention(\n",
              "              (query_proj): Linear(in_features=768, out_features=768, bias=True)\n",
              "              (key_proj): Linear(in_features=768, out_features=768, bias=True)\n",
              "              (value_proj): Linear(in_features=768, out_features=768, bias=True)\n",
              "              (pos_dropout): Dropout(p=0.1, inplace=False)\n",
              "              (dropout): Dropout(p=0.1, inplace=False)\n",
              "            )\n",
              "            (output): DebertaV2SelfOutput(\n",
              "              (dense): Linear(in_features=768, out_features=768, bias=True)\n",
              "              (LayerNorm): LayerNorm((768,), eps=1e-07, elementwise_affine=True)\n",
              "              (dropout): Dropout(p=0.1, inplace=False)\n",
              "            )\n",
              "          )\n",
              "          (intermediate): DebertaV2Intermediate(\n",
              "            (dense): Linear(in_features=768, out_features=3072, bias=True)\n",
              "            (intermediate_act_fn): GELUActivation()\n",
              "          )\n",
              "          (output): DebertaV2Output(\n",
              "            (dense): Linear(in_features=3072, out_features=768, bias=True)\n",
              "            (LayerNorm): LayerNorm((768,), eps=1e-07, elementwise_affine=True)\n",
              "            (dropout): Dropout(p=0.1, inplace=False)\n",
              "          )\n",
              "        )\n",
              "      )\n",
              "      (rel_embeddings): Embedding(512, 768)\n",
              "      (LayerNorm): LayerNorm((768,), eps=1e-07, elementwise_affine=True)\n",
              "    )\n",
              "  )\n",
              "  (pooler): ContextPooler(\n",
              "    (dense): Linear(in_features=768, out_features=768, bias=True)\n",
              "    (dropout): Dropout(p=0, inplace=False)\n",
              "  )\n",
              "  (classifier): Linear(in_features=768, out_features=2, bias=True)\n",
              "  (dropout): Dropout(p=0.1, inplace=False)\n",
              ")"
            ]
          },
          "metadata": {},
          "execution_count": 6
        }
      ]
    },
    {
      "cell_type": "markdown",
      "source": [
        "## Tokenize the data"
      ],
      "metadata": {
        "id": "R4m6L3dRlpuf"
      }
    },
    {
      "cell_type": "markdown",
      "source": [
        "Transformer models take text data that is already tokenized in a specific manner, which is what we do below for both our training and test sets. BERT has a limit of 512 tokens that it can process, and any text longer than this will be truncated. Since we are working with tweets, this does not pose any problem"
      ],
      "metadata": {
        "id": "2dn_siHNxybn"
      }
    },
    {
      "cell_type": "code",
      "source": [
        "# convert pandas dataframes to Hugging Face dataset object to facilitate pre-processing\n",
        "\n",
        "import datasets\n",
        "\n",
        "dataset = datasets.DatasetDict({\n",
        "    \"train\": datasets.Dataset.from_pandas(df_train),\n",
        "    \"test\": datasets.Dataset.from_pandas(df_test)\n",
        "})\n",
        "\n",
        "\n",
        "# tokenize\n",
        "def tokenize(examples):\n",
        "  return tokenizer(examples[\"text\"], truncation=True, max_length=512)\n",
        "\n",
        "dataset = dataset.map(tokenize, batched=True)\n"
      ],
      "metadata": {
        "id": "YVVNKyoxlrV9",
        "colab": {
          "base_uri": "https://localhost:8080/",
          "height": 81,
          "referenced_widgets": [
            "71170116c4d74bf1bfec337865c3a4f9",
            "82dbe73025d3436aa4504d61617e6188",
            "54b61e3a159d43af9c1b73c3c680515f",
            "df31b003650d4a2896826288504a9ab9",
            "a099af290e764c9ea06583925dca6f53",
            "46198e892ec845dab18059b9d154ffc1",
            "599a3aff37564540b65d0f79103c2410",
            "c6288dc1ed0a4345ba888e2077aabd83",
            "f20d905ae78b4d6dba60b962100b386c",
            "14f95aa96931451c8cee6a9d28b300ad",
            "03d7a31285b74490b0aef1f10edf5932",
            "65606e6a13924126b31bc26043a06626",
            "35fb6b2554594c17b14b28f3493df7a9",
            "2b559c46029f42fb8bcc42a49f9c91c7",
            "19d0a69d12274d0089fb177f29e0550e",
            "58467ac3730c4a578da2f20b8a805649",
            "72b11cecf39343c382bbd8c481ad059d",
            "4824208a2d894a5daa17f61258218c88",
            "40c9677ea18f4773a1f29a6eeb271dec",
            "39119bfdec9b4fccb8920ddcbf8bf103",
            "9c51f2005eb74b75a796f5c452dfc099",
            "5e197144c61d4ec7bc2d1f4804278838"
          ]
        },
        "outputId": "8aaef1da-bf33-45eb-9dc2-684320ae052f"
      },
      "execution_count": 7,
      "outputs": [
        {
          "output_type": "display_data",
          "data": {
            "text/plain": [
              "Map:   0%|          | 0/580 [00:00<?, ? examples/s]"
            ],
            "application/vnd.jupyter.widget-view+json": {
              "version_major": 2,
              "version_minor": 0,
              "model_id": "71170116c4d74bf1bfec337865c3a4f9"
            }
          },
          "metadata": {}
        },
        {
          "output_type": "display_data",
          "data": {
            "text/plain": [
              "Map:   0%|          | 0/145 [00:00<?, ? examples/s]"
            ],
            "application/vnd.jupyter.widget-view+json": {
              "version_major": 2,
              "version_minor": 0,
              "model_id": "65606e6a13924126b31bc26043a06626"
            }
          },
          "metadata": {}
        }
      ]
    },
    {
      "cell_type": "markdown",
      "source": [
        "## Training the model"
      ],
      "metadata": {
        "id": "CvhuSS1vnUZI"
      }
    },
    {
      "cell_type": "markdown",
      "source": [
        "Before training the model, we need to specify several key training arguments using the TrainingArguments() function. This function does not actually train the model; instead, it sets the configuration for how the training process will be conducted. These arguments control various aspects of training, such as the number of epochs, batch sizes, learning rate, and evaluation strategies. Once the training arguments are defined, they are used later in the Trainer function to train the model."
      ],
      "metadata": {
        "id": "il1yTVfYy76q"
      }
    },
    {
      "cell_type": "markdown",
      "source": [
        "- Epochs : Number of times the model will iterate over the entire dataset. More epochs generally improve performance but increase training time.\n",
        "\n",
        "- Learning rate : Step size used in optimization. A small learning rate can stabilize training, while a larger one may speed up convergence.\n",
        "\n",
        "- per_device_train_batch_size: Batch size for training. A larger batch size speeds up training but requires more memory. Reduce it if you encounter memory issues.\n",
        "\n",
        "- per_device_eval_batch_size: Batch size for evaluation, similar to the training batch size. Reducing it helps avoid memory problems during evaluation.\n"
      ],
      "metadata": {
        "id": "uJkBk-ryyse5"
      }
    },
    {
      "cell_type": "code",
      "source": [
        "import transformers\n",
        "from transformers import TrainingArguments, Trainer, logging\n",
        "\n",
        "training_directory = \"BERT-demo\"\n",
        "\n",
        "# Overview of all training arguments: https://huggingface.co/transformers/main_classes/trainer.html#transformers.TrainingArguments\n",
        "# Hugging Face tipps to increase training speed and decrease out-of-memory (OOM) issues: https://huggingface.co/transformers/performance.html?\n",
        "train_args = TrainingArguments(\n",
        "    num_train_epochs=4,  # this can be increased, but higher values increase training time.\n",
        "    learning_rate=2e-5,\n",
        "    per_device_train_batch_size=16,  # if you get an out-of-memory error, reduce this value to 8 or 4 and restart the runtime. Higher values increase training speed, but also increase memory requirements. Ideal values here are always a multiple of 8.\n",
        "    per_device_eval_batch_size=64,  # if you get an out-of-memory error, reduce this value, e.g. to 40 and restart the runtime\n",
        "    #gradient_accumulation_steps=2, # Can be used in case of memory problems to reduce effective batch size. accumulates gradients over X steps, only then backward/update. decreases memory usage, but also slightly speed. (!adapt/halve batch size accordingly)\n",
        "    warmup_ratio=0.06,  # a good normal default value is 0.06 for normal BERT-base models, but since we want to reuse prior NLI knowledge and avoid catastrophic forgetting, we set the value higher\n",
        "    weight_decay=0.1,\n",
        "    seed=SEED_GLOBAL,\n",
        "    load_best_model_at_end=True,\n",
        "    metric_for_best_model=\"f1_macro\",\n",
        "    #fp16=fp16_bool,  # Can speed up training and reduce memory consumption, but only makes sense at batch-size > 8. loads two copies of model weights, which creates overhead. https://huggingface.co/transformers/performance.html?#fp16\n",
        "    #fp16_full_eval=fp16_bool,\n",
        "    evaluation_strategy=\"epoch\", # options: \"no\"/\"steps\"/\"epoch\"\n",
        "    #eval_steps=10_000,  # evaluate after n steps if evaluation_strategy!='steps'. defaults to logging_steps\n",
        "    save_strategy = \"epoch\",  # options: \"no\"/\"steps\"/\"epoch\"\n",
        "    #save_steps=10_000,              # Number of updates steps before two checkpoint saves.\n",
        "    #save_total_limit=10,             # If a value is passed, will limit the total amount of checkpoints. Deletes the older checkpoints in output_dir\n",
        "    #logging_strategy=\"steps\",\n",
        "    report_to=\"all\",  # \"all\"  # logging\n",
        "    #push_to_hub=False,\n",
        "    #push_to_hub_model_id=f\"{model_name}-finetuned-{task}\",\n",
        "    output_dir=f'./results/{training_directory}',\n",
        "    logging_dir=f'./logs/{training_directory}',\n",
        ")"
      ],
      "metadata": {
        "id": "Zr-N4KaznVNk",
        "colab": {
          "base_uri": "https://localhost:8080/"
        },
        "outputId": "707cfa1c-6c2e-4c3d-da02-3c877d7ce98c"
      },
      "execution_count": 8,
      "outputs": [
        {
          "output_type": "stream",
          "name": "stderr",
          "text": [
            "/usr/local/lib/python3.11/dist-packages/transformers/training_args.py:1575: FutureWarning: `evaluation_strategy` is deprecated and will be removed in version 4.46 of 🤗 Transformers. Use `eval_strategy` instead\n",
            "  warnings.warn(\n"
          ]
        }
      ]
    },
    {
      "cell_type": "markdown",
      "source": [
        "Before training a model, it’s crucial to define how the model’s performance will be evaluated during the training process. This typically involves specifying which evaluation metrics will be used to monitor the model's progress. Evaluation metrics are important because they provide feedback on how well the model is learning, guiding decisions such as when to stop training or adjust hyperparameters.\n"
      ],
      "metadata": {
        "id": "R3QeFqvVzOBh"
      }
    },
    {
      "cell_type": "code",
      "source": [
        "from sklearn.metrics import precision_recall_fscore_support, accuracy_score\n",
        "import warnings\n",
        "import numpy as np\n",
        "\n",
        "def compute_metrics_standard(eval_pred):\n",
        "    with warnings.catch_warnings():\n",
        "        warnings.filterwarnings(\"ignore\")\n",
        "\n",
        "        labels = eval_pred.label_ids\n",
        "        pred_logits = eval_pred.predictions\n",
        "        preds_max = np.argmax(pred_logits, axis=1)  # argmax on each row (axis=1) in the tensor\n",
        "\n",
        "        # Calculate metrics\n",
        "        precision, recall, f1, _ = precision_recall_fscore_support(labels, preds_max, average='weighted')  # Weighted for multi-class problems\n",
        "        accuracy = accuracy_score(labels, preds_max)\n",
        "\n",
        "        # Return desired metrics\n",
        "        metrics = {\n",
        "            'accuracy': accuracy,\n",
        "            'f1': f1,\n",
        "            'precision': precision,\n",
        "            'recall': recall,\n",
        "        }\n",
        "\n",
        "        return metrics\n"
      ],
      "metadata": {
        "id": "uLO90ncmpvqZ"
      },
      "execution_count": 9,
      "outputs": []
    },
    {
      "cell_type": "markdown",
      "source": [
        "Now we can train the model by specifying the Trainer function, which encapsulates all the components necessary for training. This includes the model (which we load from Hugging Face), its tokenizer, the training arguments we defined earlier, the training and test datasets, and the evaluation metrics. Once everything is set up, we launch the training process by calling trainer.train()."
      ],
      "metadata": {
        "id": "WNWHjfRKzj1n"
      }
    },
    {
      "cell_type": "code",
      "source": [
        "# training\n",
        "trainer = Trainer(\n",
        "    model=model,\n",
        "    tokenizer=tokenizer,\n",
        "    args=train_args,\n",
        "    train_dataset=dataset[\"train\"],\n",
        "    eval_dataset=dataset[\"test\"],\n",
        "    compute_metrics=compute_metrics_standard\n",
        ")\n",
        "\n",
        "trainer.train()\n"
      ],
      "metadata": {
        "id": "2xwlQCIqvdN4"
      },
      "execution_count": null,
      "outputs": []
    },
    {
      "cell_type": "markdown",
      "source": [
        "The model is then evaluated on the test set with trainer.evaluate()"
      ],
      "metadata": {
        "id": "9CG6jQ32z4Qp"
      }
    },
    {
      "cell_type": "code",
      "source": [
        "results = trainer.evaluate()\n",
        "print(results)"
      ],
      "metadata": {
        "id": "-N4WYw8kvo0k"
      },
      "execution_count": null,
      "outputs": []
    },
    {
      "cell_type": "markdown",
      "source": [
        "## Inference"
      ],
      "metadata": {
        "id": "lqvLbH-6wtvM"
      }
    },
    {
      "cell_type": "code",
      "source": [
        "from transformers import pipeline\n",
        "\n",
        "economy_classifier = pipeline(\n",
        "    \"text-classification\",\n",
        "    model=model,\n",
        "    tokenizer=tokenizer,\n",
        "    framework=\"pt\",\n",
        "    device=device,\n",
        ")"
      ],
      "metadata": {
        "id": "nAy-G35lvr-p"
      },
      "execution_count": null,
      "outputs": []
    },
    {
      "cell_type": "code",
      "source": [
        "# Import tweet data\n",
        "\n",
        "full_corpus = pd.read_csv(\"https://www.dropbox.com/s/dpu5m3xqz4u4nv7/tweets_house_rep_party.csv?dl=1\")\n",
        "full_corpus"
      ],
      "metadata": {
        "id": "QBhJYIY8v6pe"
      },
      "execution_count": null,
      "outputs": []
    },
    {
      "cell_type": "code",
      "source": [
        "from tqdm import tqdm # Import library to have progress bars\n",
        "\n",
        "def apply_model_to_text(df, text_column, classifier):\n",
        "    # Initialize tqdm for progress bar\n",
        "    tqdm.pandas()  # This allows the progress_apply method to work\n",
        "\n",
        "    # Apply the classifier to the text column and get the result as a DataFrame with a progress bar\n",
        "    results = df[text_column].progress_apply(lambda x: classifier(x)[0])  # Apply model on each text\n",
        "\n",
        "    # Create new columns for the label and score\n",
        "    df['label'] = results.apply(lambda x: x['label'])  # Extract the label\n",
        "    df['score'] = results.apply(lambda x: x['score'])  # Extract the score\n",
        "\n",
        "    return df\n",
        "\n",
        "# Example usage\n",
        "full_corpus_classified = apply_model_to_text(full_corpus, 'text', economy_classifier)\n"
      ],
      "metadata": {
        "id": "rEV0ocGJwl2H"
      },
      "execution_count": null,
      "outputs": []
    }
  ]
}